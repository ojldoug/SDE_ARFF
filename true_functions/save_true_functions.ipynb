{
 "cells": [
  {
   "cell_type": "code",
   "execution_count": 3,
   "id": "9d12c86a-cea4-46ed-8aad-dfe7a5c3e58c",
   "metadata": {},
   "outputs": [],
   "source": [
    "import os\n",
    "import dill\n",
    "\n",
    "# true functions parameters\n",
    "n_dimension = 1\n",
    "\n",
    "def true_drift(x):\n",
    "    result = -(4 * x**3 - 8 * x + 3) / 2\n",
    "    return result.reshape(-1, 1)\n",
    "\n",
    "\n",
    "def true_diffusion(x):\n",
    "    result = (0.1 * x + 1) * 0.5\n",
    "    return result.reshape(-1, 1)\n",
    "\n",
    "functions = {\n",
    "    \"drift\": true_drift,\n",
    "    \"diffusion\": true_diffusion,\n",
    "}\n",
    "\n",
    "with open(\"ex3-1D_cubic.pkl\", \"wb\") as f:\n",
    "    dill.dump(functions, f)"
   ]
  },
  {
   "cell_type": "code",
   "execution_count": null,
   "id": "4d5cabbd-863b-4c57-8467-5f8077020315",
   "metadata": {},
   "outputs": [],
   "source": []
  }
 ],
 "metadata": {
  "kernelspec": {
   "display_name": "Python (SDE_NN)",
   "language": "python",
   "name": "sde_nn"
  },
  "language_info": {
   "codemirror_mode": {
    "name": "ipython",
    "version": 3
   },
   "file_extension": ".py",
   "mimetype": "text/x-python",
   "name": "python",
   "nbconvert_exporter": "python",
   "pygments_lexer": "ipython3",
   "version": "3.9.0"
  }
 },
 "nbformat": 4,
 "nbformat_minor": 5
}
