{
 "cells": [
  {
   "cell_type": "markdown",
   "id": "removed-spirit",
   "metadata": {},
   "source": [
    "# Learning forcing terms for SPDE\n",
    "Wave SPDE from \"Numerical solution of the (stochastic) wave equation\"\n",
    "from JOHN B. WALSH, see: https://www.math.ubc.ca/~walsh/waveq.pdf\n",
    "\n",
    "### Define stochastic wave equation:\n",
    "\n",
    "$$\n",
    "\\frac{\\partial^2 u}{\\partial t^2}=\\frac{\\partial^2 u}{\\partial x^2}+f(x,t,u)+g(x,t,u)\\dot{W},\\ x\\in\\mathbb{R}, t\\in\\mathbb{R}^+,\n",
    "$$\n",
    "\n",
    "$$\n",
    "u(x,0)=u_0(x),\\ \\frac{\\partial u}{\\partial t}(x,0)=v_0(x),\\ x\\in\\mathbb{R}.\n",
    "$$\n",
    "\n",
    "Here, $f$ is the deterministic and $g$ the stochastic forcing term. We show how to learn these from SPDE data."
   ]
  },
  {
   "cell_type": "code",
   "execution_count": 48,
   "id": "violent-spectacular",
   "metadata": {},
   "outputs": [
    {
     "ename": "ImportError",
     "evalue": "cannot import name 'TimingCallback' from 'sde.sde_learning_network' (/home/douglaoj/sde_identification_master/sde/sde_learning_network.py)",
     "output_type": "error",
     "traceback": [
      "\u001b[0;31m---------------------------------------------------------------------------\u001b[0m",
      "\u001b[0;31mImportError\u001b[0m                               Traceback (most recent call last)",
      "Cell \u001b[0;32mIn[48], line 12\u001b[0m\n\u001b[1;32m      9\u001b[0m \u001b[38;5;28;01mfrom\u001b[39;00m \u001b[38;5;21;01msde\u001b[39;00m\u001b[38;5;21;01m.\u001b[39;00m\u001b[38;5;21;01mspde_utils\u001b[39;00m \u001b[38;5;28;01mimport\u001b[39;00m SPDEUtils\n\u001b[1;32m     10\u001b[0m \u001b[38;5;28;01mimport\u001b[39;00m \u001b[38;5;21;01mtensorflow\u001b[39;00m \u001b[38;5;28;01mas\u001b[39;00m \u001b[38;5;21;01mtf\u001b[39;00m\n\u001b[0;32m---> 12\u001b[0m \u001b[38;5;28;01mfrom\u001b[39;00m \u001b[38;5;21;01msde\u001b[39;00m\u001b[38;5;21;01m.\u001b[39;00m\u001b[38;5;21;01msde_learning_network\u001b[39;00m \u001b[38;5;28;01mimport\u001b[39;00m \\\n\u001b[1;32m     13\u001b[0m     (\n\u001b[1;32m     14\u001b[0m         TimingCallback,\n\u001b[1;32m     15\u001b[0m         SDEIdentification,\n\u001b[1;32m     16\u001b[0m         ModelBuilder,\n\u001b[1;32m     17\u001b[0m         SDEApproximationNetwork,\n\u001b[1;32m     18\u001b[0m     )\n\u001b[1;32m     20\u001b[0m get_ipython()\u001b[38;5;241m.\u001b[39mrun_line_magic(\u001b[38;5;124m'\u001b[39m\u001b[38;5;124mload_ext\u001b[39m\u001b[38;5;124m'\u001b[39m, \u001b[38;5;124m'\u001b[39m\u001b[38;5;124mautoreload\u001b[39m\u001b[38;5;124m'\u001b[39m)\n\u001b[1;32m     21\u001b[0m get_ipython()\u001b[38;5;241m.\u001b[39mrun_line_magic(\u001b[38;5;124m'\u001b[39m\u001b[38;5;124mautoreload\u001b[39m\u001b[38;5;124m'\u001b[39m, \u001b[38;5;124m'\u001b[39m\u001b[38;5;124m2\u001b[39m\u001b[38;5;124m'\u001b[39m)\n",
      "\u001b[0;31mImportError\u001b[0m: cannot import name 'TimingCallback' from 'sde.sde_learning_network' (/home/douglaoj/sde_identification_master/sde/sde_learning_network.py)"
     ]
    }
   ],
   "source": [
    "import numpy as np\n",
    "import matplotlib.pyplot as plt\n",
    "import matplotlib.animation as animation\n",
    "from mpl_toolkits.axes_grid1 import make_axes_locatable\n",
    "import pandas as pd\n",
    "from time import time as measure_time\n",
    "import os\n",
    "\n",
    "from sde.spde_utils import SPDEUtils\n",
    "import tensorflow as tf\n",
    "\n",
    "from sde.sde_learning_network import \\\n",
    "    (\n",
    "        TimingCallback,\n",
    "        SDEIdentification,\n",
    "        ModelBuilder,\n",
    "        SDEApproximationNetwork,\n",
    "    )\n",
    "\n",
    "%load_ext autoreload\n",
    "%autoreload 2"
   ]
  },
  {
   "cell_type": "code",
   "execution_count": null,
   "id": "boolean-model",
   "metadata": {},
   "outputs": [],
   "source": [
    "# Define example parameters\n",
    "random_seed = 1\n",
    "step_size = 1e-3\n",
    "space_size = 1\n",
    "time_size = 2\n",
    "space = np.arange(int(space_size/step_size))*step_size\n",
    "time = np.arange(int(time_size/step_size))*step_size\n",
    "\n",
    "g_constant = 0.05\n",
    "\n",
    "# these are the forcing terms we want to learn\n",
    "f = lambda x, t, u: np.sin(4*np.pi*x) * 5\n",
    "g = lambda x, t, u: g_constant * (1 + np.exp(-(x-space_size/2)**2 * 150))\n",
    "\n",
    "# network parameters\n",
    "step_size_network = step_size   # step size used in training. May be different from the SPDE size.\n",
    "\n",
    "n_layers = 2\n",
    "n_dim_per_layer = 50\n",
    "\n",
    "n_dimensions = 1\n",
    "\n",
    "ACTIVATIONS = tf.nn.elu\n",
    "VALIDATION_SPLIT = .1\n",
    "BATCH_SIZE = 512\n",
    "N_EPOCHS = 3\n",
    "\n",
    "# only diagonal diffusivity matrix (does not matter since we are in 1D)\n",
    "diffusivity_type = \"diagonal\"\n",
    "\n",
    "tf.random.set_seed(random_seed)"
   ]
  },
  {
   "cell_type": "code",
   "execution_count": null,
   "id": "associate-uruguay",
   "metadata": {},
   "outputs": [],
   "source": [
    "# define the example data\n",
    "u0 = np.zeros((len(space),)) + np.sin(2*np.pi*space) * 0 + np.exp(-(space-space_size/2)**2 * 150)/20\n",
    "v0 = np.zeros((len(space),))\n",
    "v0 = -np.gradient(u0, step_size)*2  # define initial velocity such that the wave moves to the right\n",
    "\n",
    "\n",
    "def compute_example(*args, **kwargs):\n",
    "    ut = SPDEUtils.integrate_stochastic_wave(*args, **kwargs)\n",
    "    return ut\n",
    "\n",
    "\n",
    "def plot_example(ut):\n",
    "    fig, ax = plt.subplots(1, 1, figsize=(5, 3))\n",
    "    divider = make_axes_locatable(ax)\n",
    "    cax = divider.append_axes('right', size='5%', pad=0.05)\n",
    "\n",
    "    im1 = ax.imshow(ut, extent=[np.min(space), np.max(space), np.min(time), np.max(time)], origin='lower')#, vmin=-1, vmax=1)\n",
    "    ax.set_xlabel('Space')\n",
    "    ax.set_ylabel('Time')\n",
    "    fig.colorbar(im1, cax=cax, orientation='vertical')\n",
    "    fig.tight_layout()\n",
    "\n",
    "    #fig.savefig('figures/example7_data.pdf')\n",
    "    #fig.savefig('figures/example7_data.png')\n",
    "\n",
    "    fig, ax = plt.subplots(1, 1, figsize=(5, 3))\n",
    "    ax.plot(ut[0:(len(time)//5):(len(time)//5//5), :].T)\n",
    "    #ax[1].set_xlim([0, 500])\n",
    "    fig.tight_layout()"
   ]
  },
  {
   "cell_type": "code",
   "execution_count": null,
   "id": "auburn-indonesian",
   "metadata": {},
   "outputs": [],
   "source": [
    "# Test on simple example with periodic boundaries\n",
    "ut = compute_example(u0, v0, f, g, time, space, random_seed=random_seed, periodic_boundary=False);\n",
    "print('Data ut shape:', ut.shape)\n",
    "plot_example(ut)"
   ]
  },
  {
   "cell_type": "code",
   "execution_count": null,
   "id": "center-alexandria",
   "metadata": {},
   "outputs": [],
   "source": [
    "if False:\n",
    "    fig, ax = plt.subplots(figsize=(4, 2))\n",
    "    ax.set_xlim((np.min(space), np.max(space)))\n",
    "    ax.set_ylim((np.min(ut) * 1.1, np.max(ut) * 1.1))\n",
    "    ax.set_xlabel('Space')\n",
    "    ax.set_ylabel('Solution')\n",
    "    ax_title = ax.set_title(f't={0:0.3f}')\n",
    "    line, = ax.plot([], [], lw=.5)\n",
    "    n_frames = 300\n",
    "\n",
    "    def animate(k):\n",
    "        idx = int((k * ut.shape[0] // n_frames)) % ut.shape[0]\n",
    "        line.set_data(space[::2], ut[idx, :])\n",
    "        ax.set_title(f't={time[k]:0.3f}')\n",
    "        return (line, )\n",
    "\n",
    "\n",
    "    def init():\n",
    "        line.set_data([], [])\n",
    "        return (line, )\n",
    "\n",
    "\n",
    "    # create animation using the animate() function with no repeat\n",
    "    myAnimation = animation.FuncAnimation(fig, animate, frames=n_frames,\n",
    "                                          interval=10, blit=True,\n",
    "                                          repeat=False)\n",
    "\n",
    "    # save animation at 30 frames per second\n",
    "    myAnimation.save('figures/myAnimation.gif', writer='pillow', fps=30, dpi=150)\n",
    "\n",
    "    animate(1)"
   ]
  },
  {
   "cell_type": "code",
   "execution_count": null,
   "id": "surrounded-nebraska",
   "metadata": {},
   "outputs": [],
   "source": [
    "# split the data into the stencil, and reformulate the numerical scheme such that it turns into the default SDE form:\n",
    "# u_np1 = u_n + f(u_n) + g(u_n) * dW\n",
    "# we need to sample the space at every other point because the solution is also given on a staggered grid.\n",
    "u_n, p_n, u_np1 = SPDEUtils.split_forced_wave_spde_data(ut, space[::2], time, step_size)\n",
    "\n",
    "print('u_n', u_n.shape)\n",
    "print('p_n', p_n.shape)\n",
    "print('u_np1', u_np1.shape)\n"
   ]
  },
  {
   "cell_type": "markdown",
   "id": "stable-kelly",
   "metadata": {},
   "source": [
    "## Learn the forcing terms\n",
    "Now that the data is prepared, we can use the normal SDE learning framework to extract the forcing terms."
   ]
  },
  {
   "cell_type": "code",
   "execution_count": 49,
   "id": "rubber-milwaukee",
   "metadata": {},
   "outputs": [
    {
     "name": "stdout",
     "output_type": "stream",
     "text": [
      "Model: \"SPDE_forcing_gaussian_process\"\n",
      "__________________________________________________________________________________________________\n",
      " Layer (type)                   Output Shape         Param #     Connected to                     \n",
      "==================================================================================================\n",
      " SPDE_forcing_inputs (InputLaye  [(None, 3)]         0           []                               \n",
      " r)                                                                                               \n",
      "                                                                                                  \n",
      " SPDE_forcing_mean_hidden_0 (De  (None, 50)          200         ['SPDE_forcing_inputs[0][0]']    \n",
      " nse)                                                                                             \n",
      "                                                                                                  \n",
      " SPDE_forcing_std_hidden_0 (Den  (None, 50)          200         ['SPDE_forcing_inputs[0][0]']    \n",
      " se)                                                                                              \n",
      "                                                                                                  \n",
      " SPDE_forcing_mean_hidden_1 (De  (None, 50)          2550        ['SPDE_forcing_mean_hidden_0[0][0\n",
      " nse)                                                            ]']                              \n",
      "                                                                                                  \n",
      " SPDE_forcing_std_hidden_1 (Den  (None, 50)          2550        ['SPDE_forcing_std_hidden_0[0][0]\n",
      " se)                                                             ']                               \n",
      "                                                                                                  \n",
      " SPDE_forcing_output_mean (Dens  (None, 1)           51          ['SPDE_forcing_mean_hidden_1[0][0\n",
      " e)                                                              ]']                              \n",
      "                                                                                                  \n",
      " SPDE_forcing_output_std (Dense  (None, 1)           51          ['SPDE_forcing_std_hidden_1[0][0]\n",
      " )                                                               ']                               \n",
      "                                                                                                  \n",
      "==================================================================================================\n",
      "Total params: 5,602\n",
      "Trainable params: 5,602\n",
      "Non-trainable params: 0\n",
      "__________________________________________________________________________________________________\n"
     ]
    }
   ],
   "source": [
    "# define the neural network model we will use for identification\n",
    "encoder = ModelBuilder.define_gaussian_process(\n",
    "                                        n_input_dimensions=n_dimensions,\n",
    "                                        n_output_dimensions=n_dimensions,\n",
    "                                        n_parameter_dimensions=2,\n",
    "                                        n_layers=n_layers,\n",
    "                                        n_dim_per_layer=n_dim_per_layer,\n",
    "                                        name=\"SPDE_forcing\",\n",
    "                                        activation=ACTIVATIONS,\n",
    "                                        diffusivity_type=diffusivity_type)\n",
    "encoder.summary()\n",
    "\n",
    "model = SDEApproximationNetwork(sde_model=encoder,\n",
    "                                method=\"euler\",\n",
    "                                step_size=np.array(step_size_network).astype(np.float64),\n",
    "                                n_parameters=p_n.shape[1])\n",
    "model.compile(optimizer=tf.keras.optimizers.Adamax())\n",
    "\n",
    "sde_i = SDEIdentification(model=model)"
   ]
  },
  {
   "cell_type": "code",
   "execution_count": 50,
   "id": "affiliated-cambridge",
   "metadata": {},
   "outputs": [
    {
     "name": "stdout",
     "output_type": "stream",
     "text": [
      "training for 5 epochs with 895503 data points, validating with 99500\n",
      "The average loss for epoch 4 is -7.7504739613 "
     ]
    },
    {
     "data": {
      "text/plain": [
       "<matplotlib.legend.Legend at 0x146aed51d4f0>"
      ]
     },
     "execution_count": 50,
     "metadata": {},
     "output_type": "execute_result"
    },
    {
     "data": {
      "image/png": "[encoded data removed]",
      "text/plain": [
       "<Figure size 1000x500 with 1 Axes>"
      ]
     },
     "metadata": {},
     "output_type": "display_data"
    }
   ],
   "source": [
    "#timing_callback = TimingCallback()\n",
    "hist = sde_i.train_model(u_n.astype(np.float64), u_np1.astype(np.float64),\n",
    "                         p_n=p_n.astype(np.float64),\n",
    "                         validation_split=VALIDATION_SPLIT,\n",
    "                         n_epochs=N_EPOCHS,\n",
    "                         batch_size=BATCH_SIZE)\n",
    "\n",
    "fig, hist_axes = plt.subplots(1, 1, figsize=(10, 5))\n",
    "hist_axes.clear()\n",
    "hist_axes.plot(hist.history[\"loss\"], label='loss')\n",
    "hist_axes.plot(hist.history[\"val_loss\"], label='validation')\n",
    "hist_axes.legend()"
   ]
  },
  {
   "cell_type": "code",
   "execution_count": 51,
   "id": "ef36cb57-9488-4531-b169-17f9c1ff7bc7",
   "metadata": {},
   "outputs": [],
   "source": [
    "# # Extract data\n",
    "# epoch_numbers = list(range(1, N_EPOCHS + 1))\n",
    "# cumulative_times = timing_callback.epoch_times\n",
    "# losses = hist.history[\"loss\"]\n",
    "# val_losses = hist.history[\"val_loss\"]\n",
    "\n",
    "# # Create a pandas DataFrame\n",
    "# data = pd.DataFrame({\n",
    "#     \"epoch_No\": epoch_numbers,\n",
    "#     \"cum_time\": cumulative_times,\n",
    "#     \"loss\": losses\n",
    "# })\n",
    "\n",
    "# # Export data\n",
    "# script_dir = os.getcwd()\n",
    "# output_dir = os.path.join(script_dir, 'loss_data')\n",
    "# output_path = os.path.join(output_dir, \"example7 - Wave SPDE data.csv\")\n",
    "# data.to_csv(output_path, index=False)\n",
    "\n",
    "# # Plot loss and validation loss against epochs\n",
    "# fig, (ax1, ax2) = plt.subplots(1, 2, figsize=(15, 6), constrained_layout=True)\n",
    "\n",
    "# ax1.plot(epoch_numbers, losses, label='Training Loss')\n",
    "# ax1.plot(epoch_numbers, val_losses, label='Validation Loss')\n",
    "# ax1.set_title(\"Loss vs Epochs\")\n",
    "# ax1.set_xlabel(\"Epoch\")\n",
    "# ax1.set_ylabel(\"Loss\")\n",
    "# ax1.legend()\n",
    "\n",
    "# ax2.plot(cumulative_times, losses, label='Training Loss')\n",
    "# ax2.plot(cumulative_times, val_losses, label='Validation Loss')\n",
    "# ax2.set_title(\"Loss vs Time\")\n",
    "# ax2.set_xlabel(\"Cumulative Time (seconds)\")\n",
    "# ax2.set_ylabel(\"Loss\")\n",
    "# ax2.legend()"
   ]
  },
  {
   "cell_type": "code",
   "execution_count": 52,
   "id": "therapeutic-atlanta",
   "metadata": {},
   "outputs": [
    {
     "name": "stdout",
     "output_type": "stream",
     "text": [
      "loss training: -7.750473961286213, validation: -7.7491307559164815\n"
     ]
    }
   ],
   "source": [
    "print(f'loss training: {hist.history[\"loss\"][-1]}, validation: {hist.history[\"val_loss\"][-1]}')"
   ]
  },
  {
   "cell_type": "code",
   "execution_count": 53,
   "id": "marine-cookbook",
   "metadata": {},
   "outputs": [
    {
     "data": {
      "image/png": "[encoded data removed]",
      "text/plain": [
       "<Figure size 700x300 with 2 Axes>"
      ]
     },
     "metadata": {},
     "output_type": "display_data"
    }
   ],
   "source": [
    "# visualize the results against the true forcing functions\n",
    "\n",
    "# visualize the results against the true forcing functions\n",
    "\n",
    "def plot_forcings_space(ut, network):\n",
    "    fig, ax = plt.subplots(1, 2, figsize=(7, 3))\n",
    "\n",
    "    f_true = f(space, time[0], ut[0, :])\n",
    "    g_true = g(space, time[0], ut[0, :])\n",
    "    state_k = np.array([ut[0, :]]).reshape(-1, 1)*1\n",
    "    param_k = np.zeros((ut.shape[1], 2))\n",
    "    param_k[:, 0] = time[0]\n",
    "    param_k[:, 1] = space[::2]\n",
    "    model_f, model_g = model.call_xn(state_k, param_xn=param_k)\n",
    "    f_approx = tf.keras.backend.eval(model_f).ravel()\n",
    "\n",
    "    # this is an important scaling here, as from the SDE formulation to the SPDE formulation we loose the factor sqrt(2 h^2 / h)\n",
    "    g_approx = np.sqrt(step_size ** 2 / step_size * 2) * tf.keras.backend.eval(model_g).ravel()\n",
    "\n",
    "    ax[0].plot(space, f_true)\n",
    "    ax[0].plot(space[::2], f_approx)\n",
    "    ax[0].set_xlabel('Space')\n",
    "    ax[0].set_ylabel('Deterministic forcing')\n",
    "\n",
    "    ax[1].plot(space, g_true)\n",
    "    ax[1].plot(space[::2], g_approx)\n",
    "    ax[1].set_xlabel('Space')\n",
    "    ax[1].set_ylabel('Stochastic forcing')\n",
    "\n",
    "    fig.tight_layout()\n",
    "\n",
    "    #fig.savefig('figures/example7_wave_spde_forcings.pdf')\n",
    "    #fig.savefig('figures/example7_wave_spde_forcings.png')\n",
    "\n",
    "\n",
    "def plot_forcings(ut, network):\n",
    "    fig, ax = plt.subplots(1, 4, figsize=(15, 3))\n",
    "    divider1 = make_axes_locatable(ax[0])\n",
    "    divider2 = make_axes_locatable(ax[1])\n",
    "    divider3 = make_axes_locatable(ax[2])\n",
    "    divider4 = make_axes_locatable(ax[3])\n",
    "    cax1 = divider1.append_axes('right', size='5%', pad=0.05)\n",
    "    cax2 = divider2.append_axes('right', size='5%', pad=0.05)\n",
    "    cax3 = divider3.append_axes('right', size='5%', pad=0.05)\n",
    "    cax4 = divider4.append_axes('right', size='5%', pad=0.05)\n",
    "\n",
    "    f_true = np.zeros((len(time), len(space)))\n",
    "    g_true = np.zeros((len(time), len(space)))\n",
    "    f_approx = np.zeros((len(time), len(space)//2))\n",
    "    g_approx = np.zeros((len(time), len(space)//2))\n",
    "    for k in range(len(time)):\n",
    "        f_true[k, :] = f(space, time[k], ut[k, :])\n",
    "        g_true[k, :] = g(space, time[k], ut[k, :])\n",
    "        state_k = np.array([ut[k, :]]).reshape(-1, 1)*1\n",
    "        param_k = np.zeros((ut.shape[1], 2))\n",
    "        param_k[:, 0] = time[k]\n",
    "        param_k[:, 1] = space[::2]\n",
    "        model_f, model_g = model.call_xn(state_k, param_xn=param_k)\n",
    "        f_approx[k, :] = tf.keras.backend.eval(model_f).ravel()\n",
    "\n",
    "        # this is an important scaling here, as from the SDE formulation to the SPDE formulation we loose the factor sqrt(2 h^2 / h)\n",
    "        g_approx[k, :] = np.sqrt(step_size ** 2 / step_size * 2) * tf.keras.backend.eval(model_g).ravel()\n",
    "\n",
    "    im1 = ax[0].imshow(f_true, extent=[np.min(space), np.max(space), np.min(time), np.max(time)], origin='lower')#, vmin=-20, vmax=20)\n",
    "    ax[0].set_xlabel('Space')\n",
    "    ax[0].set_ylabel('Time')\n",
    "    fig.colorbar(im1, cax=cax1, orientation='vertical')\n",
    "\n",
    "    im2 = ax[1].imshow(f_approx, extent=[np.min(space), np.max(space), np.min(time), np.max(time)], origin='lower')#, vmin=-20, vmax=20)\n",
    "    ax[1].set_xlabel('Space')\n",
    "    ax[1].set_ylabel('Time')\n",
    "    fig.colorbar(im2, cax=cax2, orientation='vertical')\n",
    "\n",
    "    im3 = ax[2].imshow(g_true, extent=[np.min(space), np.max(space), np.min(time), np.max(time)], origin='lower')#, vmin=-g_constant*1.5, vmax=g_constant*1.5)\n",
    "    ax[2].set_xlabel('Space')\n",
    "    ax[2].set_ylabel('Time')\n",
    "    fig.colorbar(im3, cax=cax3, orientation='vertical')\n",
    "\n",
    "    im4 = ax[3].imshow(g_approx, extent=[np.min(space), np.max(space), np.min(time), np.max(time)], origin='lower')#, vmin=-g_constant*1.5, vmax=g_constant*1.5)\n",
    "    ax[3].set_xlabel('Space')\n",
    "    ax[3].set_ylabel('Time')\n",
    "    fig.colorbar(im4, cax=cax4, orientation='vertical')\n",
    "\n",
    "    fig.tight_layout()\n",
    "\n",
    "\n",
    "plot_forcings_space(ut, encoder)\n",
    "# plot_forcings(ut, encoder)"
   ]
  },
  {
   "cell_type": "markdown",
   "id": "overall-israel",
   "metadata": {},
   "source": [
    "## Convergence tests\n",
    "Compute the error (MSE) between the true solutions and the network solutions, for increasing number of data points."
   ]
  },
  {
   "cell_type": "code",
   "execution_count": 11,
   "id": "dominican-postcard",
   "metadata": {},
   "outputs": [],
   "source": [
    "def train_network(n_data_points, seed=1):\n",
    "    # define model\n",
    "    encoder = ModelBuilder.define_gaussian_process(\n",
    "                                        n_input_dimensions=n_dimensions,\n",
    "                                        n_output_dimensions=n_dimensions,\n",
    "                                        n_parameter_dimensions=2,\n",
    "                                        n_layers=n_layers,\n",
    "                                        n_dim_per_layer=n_dim_per_layer,\n",
    "                                        name=\"SPDE_forcing\",\n",
    "                                        activation=ACTIVATIONS,\n",
    "                                        diffusivity_type=diffusivity_type)\n",
    "    # encoder.summary()\n",
    "\n",
    "    model = SDEApproximationNetwork(sde_model=encoder,\n",
    "                                    method=\"euler\",\n",
    "                                    step_size=np.array(step_size_network).astype(np.float64),\n",
    "                                    n_parameters=p_n.shape[1])\n",
    "    model.compile(optimizer=tf.keras.optimizers.Adamax(learning_rate=1e-2))\n",
    "\n",
    "    rng = np.random.default_rng(seed)\n",
    "    idx = rng.permutation(np.arange(u_n.shape[0]))[:n_data_points]\n",
    "    # train model with the specified number of data points\n",
    "    u_n_i = u_n[idx, :]\n",
    "    u_np1_i = u_np1[idx, :]\n",
    "    p_n_i = p_n[idx, :]\n",
    "    \n",
    "    # number of iterations is fixed, so that we update all networks roughly the same number of times\n",
    "    N_EPOCHS_i = N_EPOCHS * 500000 // n_data_points\n",
    "    \n",
    "    t0 = measure_time()\n",
    "    sde_i = SDEIdentification(model=model)\n",
    "    hist = sde_i.train_model(u_n_i.astype(np.float64), u_np1_i.astype(np.float64),\n",
    "                         p_n=p_n_i.astype(np.float64),\n",
    "                         validation_split=0.01,\n",
    "                         n_epochs=N_EPOCHS_i,\n",
    "                         batch_size=BATCH_SIZE)\n",
    "    t1 = measure_time()\n",
    "    \n",
    "    # evaluate on grid data and compare to true functions in MSE\n",
    "    f_true = f(space[::2], time[0], ut[0, ::2])\n",
    "    g_true = g(space[::2], time[0], ut[0, ::2])\n",
    "    state_k = np.array([ut[0, :]]).reshape(-1, 1)*1\n",
    "    param_k = np.zeros((ut.shape[1], 2))\n",
    "    param_k[:, 0] = time[0]\n",
    "    param_k[:, 1] = space[::2]\n",
    "    model_f, model_g = model.call_xn(state_k, param_xn=param_k)\n",
    "    f_approx = tf.keras.backend.eval(model_f).ravel()\n",
    "\n",
    "    # this is an important scaling here, as from the SDE formulation to the SPDE formulation we loose the factor sqrt(2 h^2 / h)\n",
    "    g_approx = np.sqrt(step_size ** 2 / step_size * 2) * tf.keras.backend.eval(model_g).ravel()\n",
    "\n",
    "    return {\n",
    "        'f_true': f_true,\n",
    "        'f_approx': f_approx,\n",
    "        'mse_f': np.mean(np.square((f_approx - f_true))),\n",
    "        'mse_g': np.mean(np.square((g_approx - g_true))),\n",
    "        'loss': hist.history['loss'][-1],\n",
    "        'val_loss': hist.history['val_loss'][-1],\n",
    "        'n_data_points': n_data_points,\n",
    "        'training_time': t1-t0\n",
    "    }"
   ]
  },
  {
   "cell_type": "code",
   "execution_count": 12,
   "id": "bigger-switch",
   "metadata": {},
   "outputs": [],
   "source": [
    "train_large = False # set to True if the large training experiment must be performed"
   ]
  },
  {
   "cell_type": "code",
   "execution_count": 13,
   "id": "apparent-theology",
   "metadata": {},
   "outputs": [],
   "source": [
    "if train_large:\n",
    "    data = []\n",
    "    for k in np.linspace(3.5, 6, num=10):\n",
    "        for k2 in range(10):\n",
    "            data.append(train_network(int(10**k)))\n",
    "    errors_df = pd.DataFrame.from_dict(data)"
   ]
  },
  {
   "cell_type": "code",
   "execution_count": 14,
   "id": "grave-benefit",
   "metadata": {},
   "outputs": [],
   "source": [
    "if train_large:\n",
    "    fig, ax = plt.subplots(1, 3, figsize=(10, 3))\n",
    "\n",
    "    def plot_error(ax, y, label, loglog=True, ylabel='True mean squared error'):\n",
    "        if loglog:\n",
    "            ax.loglog(errors_df['n_data_points'], y, '.', label=label)\n",
    "        else:\n",
    "            ax.semilogx(errors_df['n_data_points'], y, '.', label=label)\n",
    "        ax.legend() # loc='upper right')\n",
    "        ax.set_xlabel('Data points')\n",
    "        ax.set_ylabel(ylabel)\n",
    "\n",
    "    plot_error(ax[0], errors_df['mse_f'], 'Drift')\n",
    "    plot_error(ax[1], errors_df['mse_g'], 'Diffusivity')\n",
    "    plot_error(ax[2], errors_df['loss'], 'Training set', loglog=False, ylabel='Euler-Maruyama loss')\n",
    "    plot_error(ax[2], errors_df['val_loss'], 'Validation set', loglog=False, ylabel='Euler-Maruyama loss')\n",
    "\n",
    "    fig.tight_layout()\n",
    "    fig.savefig('figures/example7_wavepde_trueloss.pdf')\n",
    "    fig.savefig('figures/example7_wavepde_trueloss.png')"
   ]
  },
  {
   "cell_type": "code",
   "execution_count": 15,
   "id": "maritime-fraction",
   "metadata": {},
   "outputs": [
    {
     "name": "stdout",
     "output_type": "stream",
     "text": [
      "97650\n"
     ]
    }
   ],
   "source": [
    "# number of weight update iterations for the convergence test:\n",
    "print((N_EPOCHS * 500000 // 10**6) * (10**6 // BATCH_SIZE))"
   ]
  },
  {
   "cell_type": "code",
   "execution_count": null,
   "id": "cognitive-twelve",
   "metadata": {},
   "outputs": [],
   "source": []
  }
 ],
 "metadata": {
  "kernelspec": {
   "display_name": "Python (SDE_NN)",
   "language": "python",
   "name": "sde_nn"
  },
  "language_info": {
   "codemirror_mode": {
    "name": "ipython",
    "version": 3
   },
   "file_extension": ".py",
   "mimetype": "text/x-python",
   "name": "python",
   "nbconvert_exporter": "python",
   "pygments_lexer": "ipython3",
   "version": "3.9.0"
  }
 },
 "nbformat": 4,
 "nbformat_minor": 5
}
